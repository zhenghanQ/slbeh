{
 "cells": [
  {
   "cell_type": "code",
   "execution_count": 1,
   "metadata": {
    "collapsed": false,
    "deletable": true,
    "editable": true
   },
   "outputs": [
    {
     "name": "stderr",
     "output_type": "stream",
     "text": [
      "/om/user/ysa/fmri_env/lib/python2.7/site-packages/pandas/computation/__init__.py:19: UserWarning: The installed version of numexpr 2.4.4 is not supported in pandas and will be not be used\n",
      "\n",
      "  UserWarning)\n"
     ]
    }
   ],
   "source": [
    "import os\n",
    "import numpy as np\n",
    "import pandas as pd\n",
    "import matplotlib.pyplot as plt\n",
    "% matplotlib inline\n",
    "import seaborn as sns\n",
    "import scipy.stats"
   ]
  },
  {
   "cell_type": "code",
   "execution_count": 2,
   "metadata": {
    "collapsed": false,
    "deletable": true,
    "editable": true
   },
   "outputs": [
    {
     "data": {
      "text/plain": [
       "['summary_kids_tsl.csv',\n",
       " 'Untitled.ipynb',\n",
       " 'summary_adults_tsl.csv',\n",
       " 'ASD_summary.csv',\n",
       " 'children_all.csv',\n",
       " 'summary_adults_vsl.csv',\n",
       " 'get_asd.ipynb',\n",
       " '.ipynb_checkpoints',\n",
       " 'summary_kids_vsl.csv']"
      ]
     },
     "execution_count": 2,
     "metadata": {},
     "output_type": "execute_result"
    }
   ],
   "source": [
    "os.listdir('.')"
   ]
  },
  {
   "cell_type": "code",
   "execution_count": 2,
   "metadata": {
    "collapsed": false,
    "deletable": true,
    "editable": true,
    "scrolled": true
   },
   "outputs": [],
   "source": [
    "def scat_plot(x, y, xlabel, ylabel):\n",
    "    plt.figure(figsize=(10, 7))\n",
    "    sns.regplot(\n",
    "        x, y, \n",
    "        scatter_kws={'s':30}\n",
    "    )\n",
    "    plt.xlabel(xlabel, size=20); plt.ylabel(ylabel, size=20)\n",
    "    plt.xticks(size=15); plt.yticks(size=15)\n",
    "    return"
   ]
  },
  {
   "cell_type": "code",
   "execution_count": 12,
   "metadata": {
    "collapsed": false,
    "deletable": true,
    "editable": true,
    "scrolled": true
   },
   "outputs": [],
   "source": [
    "'''\n",
    "scat_plot(\n",
    "    **{\n",
    "        'x':df.lm_coef_rt, \n",
    "        'y':df.acc, \n",
    "        'xlabel':'lm Coef RT', \n",
    "        'ylabel':'Accuracy'\n",
    "    }\n",
    ")\n",
    "''';"
   ]
  },
  {
   "cell_type": "code",
   "execution_count": 3,
   "metadata": {
    "collapsed": false,
    "deletable": true,
    "editable": true
   },
   "outputs": [],
   "source": [
    "def drop_rows(data):\n",
    "    c = []\n",
    "    for idx in range(data.shape[0]):\n",
    "        n_p = pd.isnull(data.loc[idx][8:-1]).mean()\n",
    "        if n_p > .4:\n",
    "            c.append(idx)\n",
    "    return data.drop(c, 0)\n",
    "\n",
    "def id_sort(data, id_sorter, sorting_col):\n",
    "    tmp = data.set_index(id_sorter).loc[sorting_col]\n",
    "    tmp['ID'] = tmp.index.values\n",
    "    tmp.index = [x for x in range(tmp.shape[0])]\n",
    "    return tmp\n",
    "\n",
    "def reidx(data):\n",
    "    copy = data.copy()\n",
    "    copy.index = [x for x in range(copy.shape[0])]\n",
    "    return copy"
   ]
  },
  {
   "cell_type": "code",
   "execution_count": 34,
   "metadata": {
    "collapsed": false,
    "deletable": true,
    "editable": true,
    "scrolled": false
   },
   "outputs": [
    {
     "name": "stdout",
     "output_type": "stream",
     "text": [
      "['ID' 'gender' 'group' 'SLAge' 'BehAge' 'AgeInt' 'celf_rs' 'cls' 'kbit'\n",
      " 'ctopp_e' 'ctopp_bw' 'ctopp_md' 'ctopp_nwr' 'ran_o' 'ran_c' 'ran_l'\n",
      " 'ran_s' 'trog' 'wrmt_wi' 'wrmt_wa' 'towre_swe' 'towre_rd' 'towre_total'\n",
      " 'wjiii' 'awma_x' 'awma_b' 'scq' 'srs']\n"
     ]
    }
   ],
   "source": [
    "df=pd.read_csv('summary_kids_vsl.csv', index_col=0)\n",
    "other_data = pd.read_csv('children_all.csv')\n",
    "print other_data.columns.values\n",
    "od = id_sort(other_data, 'ID', df.id_rt)\n",
    "np.all(df.id_rt == od.ID)\n",
    "drop_pars = od[od.group != 'TD'].ID.values\n",
    "use = od[~od.ID.isin(drop_pars)]\n",
    "df2 = df.set_index('id_rt').loc[use.ID]\n",
    "df2.index=[x for x in range(df2.shape[0])]\n",
    "use.index=[x for x in range(use.shape[0])]\n",
    "mod_data = pd.concat([df2, use], axis=1)"
   ]
  },
  {
   "cell_type": "code",
   "execution_count": 85,
   "metadata": {
    "collapsed": false,
    "deletable": true,
    "editable": true
   },
   "outputs": [],
   "source": [
    "X = mod_data[['acc','kbit','wjiii','mean_rt','lm_coef_rt','trog','ID']].dropna()\n",
    "X = X - X.mean(0)\n",
    "X = X * 1./X.std(0)"
   ]
  },
  {
   "cell_type": "code",
   "execution_count": 90,
   "metadata": {
    "collapsed": false,
    "deletable": true,
    "editable": true
   },
   "outputs": [
    {
     "name": "stdout",
     "output_type": "stream",
     "text": [
      "                Mixed Linear Model Regression Results\n",
      "====================================================================\n",
      "Model:                  MixedLM     Dependent Variable:     acc     \n",
      "No. Observations:       30          Method:                 REML    \n",
      "No. Groups:             30          Scale:                  0.0000  \n",
      "Min. group size:        1           Likelihood:             -41.3943\n",
      "Max. group size:        1           Converged:              Yes     \n",
      "Mean group size:        1.0                                         \n",
      "--------------------------------------------------------------------\n",
      "                          Coef.  Std.Err.   z    P>|z| [0.025 0.975]\n",
      "--------------------------------------------------------------------\n",
      "Intercept                  0.041    0.302  0.137 0.891 -0.551  0.634\n",
      "wjiii                     -0.178    0.159 -1.118 0.263 -0.489  0.134\n",
      "trog                       0.021    0.232  0.089 0.929 -0.434  0.476\n",
      "kbit                       0.326    0.312  1.042 0.297 -0.287  0.938\n",
      "mean_rt                   -0.403    0.271 -1.484 0.138 -0.935  0.129\n",
      "Intercept RE               0.727  195.531                           \n",
      "Intercept RE x mean_rt RE  0.056   50.179                           \n",
      "mean_rt RE                 0.086  104.073                           \n",
      "Intercept RE x kbit RE    -0.007    7.265                           \n",
      "mean_rt RE x kbit RE       0.071   22.116                           \n",
      "kbit RE                    0.063                                    \n",
      "====================================================================\n",
      "\n"
     ]
    }
   ],
   "source": [
    "import statsmodels.formula.api as smf\n",
    "\n",
    "\n",
    "\n",
    "mod = smf.mixedlm(\n",
    "    formula = \"acc ~ wjiii + trog + kbit + mean_rt\", \n",
    "    data = X, \n",
    "    groups = X['ID'], \n",
    "    re_formula = \"~mean_rt + kbit\"\n",
    ")\n",
    "fit = mod.fit()\n",
    "print(fit.summary())"
   ]
  },
  {
   "cell_type": "raw",
   "metadata": {
    "collapsed": false,
    "deletable": true,
    "editable": true,
    "scrolled": true
   },
   "source": [
    "use.columns.values"
   ]
  },
  {
   "cell_type": "code",
   "execution_count": 31,
   "metadata": {
    "collapsed": true,
    "deletable": true,
    "editable": true
   },
   "outputs": [],
   "source": [
    "def drop_rows(data):\n",
    "    c = []\n",
    "    for idx in range(data.shape[0]):\n",
    "        n_p = pd.isnull(data.loc[idx][8:-1]).mean()\n",
    "        if n_p > .4:\n",
    "            c.append(idx)\n",
    "    return data.drop(c, 0)\n",
    "    "
   ]
  },
  {
   "cell_type": "code",
   "execution_count": 33,
   "metadata": {
    "collapsed": false,
    "deletable": true,
    "editable": true
   },
   "outputs": [],
   "source": [
    "nna = dr(c)\n",
    "wjiii_lm_coef = nna[['lm_coef_rt', 'wjiii']]"
   ]
  },
  {
   "cell_type": "code",
   "execution_count": 36,
   "metadata": {
    "collapsed": false,
    "deletable": true,
    "editable": true
   },
   "outputs": [
    {
     "data": {
      "text/plain": [
       "Ttest_relResult(statistic=-15.572376443610754, pvalue=4.4087165017187938e-18)"
      ]
     },
     "execution_count": 36,
     "metadata": {},
     "output_type": "execute_result"
    }
   ],
   "source": [
    "scipy.stats.(wjiii_lm_coef.dropna().lm_coef_rt, wjiii_lm_coef.dropna().wjiii)"
   ]
  },
  {
   "cell_type": "code",
   "execution_count": null,
   "metadata": {
    "collapsed": true,
    "deletable": true,
    "editable": true
   },
   "outputs": [],
   "source": []
  }
 ],
 "metadata": {
  "kernelspec": {
   "display_name": "Python 2",
   "language": "python",
   "name": "python2"
  },
  "language_info": {
   "codemirror_mode": {
    "name": "ipython",
    "version": 2
   },
   "file_extension": ".py",
   "mimetype": "text/x-python",
   "name": "python",
   "nbconvert_exporter": "python",
   "pygments_lexer": "ipython2",
   "version": "2.7.12"
  }
 },
 "nbformat": 4,
 "nbformat_minor": 0
}
