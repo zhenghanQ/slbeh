{
 "cells": [
  {
   "cell_type": "code",
   "execution_count": 71,
   "metadata": {
    "collapsed": false
   },
   "outputs": [],
   "source": [
    "import os\n",
    "import numpy as np\n",
    "import pandas as pd\n",
    "import statsmodels.formula.api as smf"
   ]
  },
  {
   "cell_type": "code",
   "execution_count": 3,
   "metadata": {
    "collapsed": false
   },
   "outputs": [
    {
     "name": "stdout",
     "output_type": "stream",
     "text": [
      "\u001b[0m\u001b[38;5;34madults_tsl_tbt_famphase.csv\u001b[0m*           \u001b[38;5;34mkids_vsl_tbt_famphase_falsePos.csv\u001b[0m*\r\n",
      "\u001b[38;5;34madults_tsl_tbt_famphase_falsePos.csv\u001b[0m*  \u001b[38;5;34mkids_vsl_tbt_testphase.csv\u001b[0m*\r\n",
      "\u001b[38;5;34madults_tsl_tbt_testphase.csv\u001b[0m*          linear_mixed_effects_modeling.ipynb\r\n",
      "\u001b[38;5;34madults_vsl_tbt_famphase.csv\u001b[0m*           \u001b[48;5;10;38;5;21mold\u001b[0m/\r\n",
      "\u001b[38;5;34madults_vsl_tbt_famphase_falsePos.csv\u001b[0m*  plot_all.ipynb\r\n",
      "\u001b[38;5;34madults_vsl_tbt_testphase.csv\u001b[0m*          \u001b[38;5;34mreadme.txt\u001b[0m*\r\n",
      "\u001b[38;5;34mkids_tsl_tbt_famphase.csv\u001b[0m*             \u001b[38;5;34msummary.ipynb\u001b[0m*\r\n",
      "\u001b[38;5;34mkids_tsl_tbt_famphase_falsePos.csv\u001b[0m*    \u001b[48;5;10;38;5;21msummary_outputs\u001b[0m/\r\n",
      "\u001b[38;5;34mkids_tsl_tbt_testphase.csv\u001b[0m*            \u001b[38;5;13mtsl_tbt_kids_allpar_scatter.png\u001b[0m\r\n",
      "\u001b[38;5;34mkids_vsl_tbt_famphase.csv\u001b[0m*             \u001b[38;5;13mvsl_tbt_kids_allpar_scatter.png\u001b[0m\r\n"
     ]
    }
   ],
   "source": [
    "ls"
   ]
  },
  {
   "cell_type": "code",
   "execution_count": 73,
   "metadata": {
    "collapsed": false,
    "scrolled": true
   },
   "outputs": [
    {
     "name": "stdout",
     "output_type": "stream",
     "text": [
      "['ID' 'gender' 'group' 'SLAge' 'BehAge' 'AgeInt' 'celf_rs' 'cls' 'kbit'\n",
      " 'ctopp_e' 'ctopp_bw' 'ctopp_md' 'ctopp_nwr' 'ran_o' 'ran_c' 'ran_l'\n",
      " 'ran_s' 'trog' 'wrmt_wi' 'wrmt_wa' 'towre_swe' 'towre_rd' 'towre_total'\n",
      " 'wjiii' 'awma_x' 'awma_b' 'scq' 'srs']\n"
     ]
    }
   ],
   "source": [
    "tsl = pd.read_csv('summary_outputs/summary_kids_tsl.csv', index_col=0)\n",
    "od = pd.read_csv('summary_outputs/children_all.csv')\n",
    "tsl.head()\n",
    "print od.columns.values\n",
    "skip_kids = od[od['group'] != 'TD'].ID.values\n",
    "data = tsl[~tsl.id_rt.isin(skip_kids)]"
   ]
  },
  {
   "cell_type": "code",
   "execution_count": 74,
   "metadata": {
    "collapsed": false,
    "scrolled": true
   },
   "outputs": [],
   "source": [
    "skip_kids = od[od['group'] != 'TD'].ID.values\n",
    "data = tsl[~tsl.id_rt.isin(skip_kids)]"
   ]
  },
  {
   "cell_type": "code",
   "execution_count": 76,
   "metadata": {
    "collapsed": false,
    "scrolled": false
   },
   "outputs": [],
   "source": [
    "data_sub = data[['lm_coef_rt','mean_rt','poly1','poly2','poly3','acc']]"
   ]
  },
  {
   "cell_type": "markdown",
   "metadata": {},
   "source": [
    "<h4>Linear mixed model, slope and intercept as random Checking response time as a function of trial mask</h4>\n"
   ]
  },
  {
   "cell_type": "code",
   "execution_count": 80,
   "metadata": {
    "collapsed": false
   },
   "outputs": [
    {
     "name": "stdout",
     "output_type": "stream",
     "text": [
      "                            OLS Regression Results                            \n",
      "==============================================================================\n",
      "Dep. Variable:                    acc   R-squared:                       0.000\n",
      "Model:                            OLS   Adj. R-squared:                 -0.030\n",
      "Method:                 Least Squares   F-statistic:                   0.01476\n",
      "Date:                Fri, 27 Jan 2017   Prob (F-statistic):              0.904\n",
      "Time:                        15:27:57   Log-Likelihood:                 22.918\n",
      "No. Observations:                  35   AIC:                            -41.84\n",
      "Df Residuals:                      33   BIC:                            -38.72\n",
      "Df Model:                           1                                         \n",
      "Covariance Type:            nonrobust                                         \n",
      "==============================================================================\n",
      "                 coef    std err          t      P>|t|      [95.0% Conf. Int.]\n",
      "------------------------------------------------------------------------------\n",
      "Intercept      0.6484      0.022     29.560      0.000         0.604     0.693\n",
      "lm_coef_rt -7.539e-05      0.001     -0.121      0.904        -0.001     0.001\n",
      "==============================================================================\n",
      "Omnibus:                        7.389   Durbin-Watson:                   1.157\n",
      "Prob(Omnibus):                  0.025   Jarque-Bera (JB):                6.216\n",
      "Skew:                           1.004   Prob(JB):                       0.0447\n",
      "Kurtosis:                       3.479   Cond. No.                         35.4\n",
      "==============================================================================\n",
      "\n",
      "Warnings:\n",
      "[1] Standard Errors assume that the covariance matrix of the errors is correctly specified.\n"
     ]
    }
   ],
   "source": [
    "mod = smf.ols(\n",
    "    formula = \"acc ~ lm_coef_rt\",\n",
    "    data=data_sub\n",
    ")\n",
    "\n",
    "res = mod.fit()\n",
    "print(res.summary())"
   ]
  },
  {
   "cell_type": "code",
   "execution_count": 82,
   "metadata": {
    "collapsed": false,
    "scrolled": true
   },
   "outputs": [
    {
     "name": "stdout",
     "output_type": "stream",
     "text": [
      "               Mixed Linear Model Regression Results\n",
      "===================================================================\n",
      "Model:                  MixedLM     Dependent Variable:     acc    \n",
      "No. Observations:       35          Method:                 REML   \n",
      "No. Groups:             35          Scale:                  0.0060 \n",
      "Min. group size:        1           Likelihood:             16.0384\n",
      "Max. group size:        1           Converged:              Yes    \n",
      "Mean group size:        1.0                                        \n",
      "-------------------------------------------------------------------\n",
      "                          Coef.  Std.Err.   z   P>|z| [0.025 0.975]\n",
      "-------------------------------------------------------------------\n",
      "Intercept                  0.604    0.076 7.909 0.000  0.455  0.754\n",
      "mean_rt                    0.000    0.001 0.418 0.676 -0.001  0.002\n",
      "Intercept RE               0.067                                   \n",
      "Intercept RE x mean_rt RE -0.000                                   \n",
      "mean_rt RE                 0.000                                   \n",
      "===================================================================\n",
      "\n"
     ]
    },
    {
     "name": "stderr",
     "output_type": "stream",
     "text": [
      "/om/user/ysa/fmri_env/lib/python2.7/site-packages/statsmodels/regression/mixed_linear_model.py:1717: ConvergenceWarning: The MLE may be on the boundary of the parameter space.\n",
      "  warnings.warn(msg, ConvergenceWarning)\n"
     ]
    }
   ],
   "source": [
    "mod = smf.mixedlm(\n",
    "    formula = \"acc ~ mean_rt\", \n",
    "    data = data, \n",
    "    groups = data['id_rt'],\n",
    "    missing='drop',\n",
    "    re_formula = \"~mean_rt\"\n",
    ")\n",
    "\n",
    "mod_fit = mod.fit()\n",
    "print(mod_fit.summary())"
   ]
  },
  {
   "cell_type": "code",
   "execution_count": 38,
   "metadata": {
    "collapsed": true
   },
   "outputs": [],
   "source": [
    "ztd_list = \"\"\"\n",
    "3064\n",
    "3067\n",
    "3068\n",
    "3078\n",
    "3089\n",
    "3112\n",
    "3113\n",
    "3115\n",
    "3130\n",
    "3139\n",
    "3142\n",
    "3143\n",
    "3144\n",
    "3161\n",
    "3181\n",
    "3182\n",
    "3187\n",
    "3199\n",
    "3213\n",
    "3219\n",
    "3220\n",
    "3223\n",
    "3224\n",
    "3236\n",
    "3237\n",
    "3266\n",
    "3267\n",
    "3268\n",
    "3308\n",
    "3311\n",
    "3314\n",
    "3330\n",
    "3331\n",
    "3332\n",
    "3347\n",
    "\"\"\".strip().split('\\n')"
   ]
  },
  {
   "cell_type": "code",
   "execution_count": 30,
   "metadata": {
    "collapsed": false,
    "scrolled": true
   },
   "outputs": [
    {
     "data": {
      "text/plain": [
       "35"
      ]
     },
     "execution_count": 30,
     "metadata": {},
     "output_type": "execute_result"
    }
   ],
   "source": [
    "len(ztd_list)"
   ]
  },
  {
   "cell_type": "code",
   "execution_count": 29,
   "metadata": {
    "collapsed": false,
    "scrolled": true
   },
   "outputs": [
    {
     "data": {
      "text/plain": [
       "38"
      ]
     },
     "execution_count": 29,
     "metadata": {},
     "output_type": "execute_result"
    }
   ],
   "source": [
    "len(td_use)"
   ]
  },
  {
   "cell_type": "code",
   "execution_count": 23,
   "metadata": {
    "collapsed": false
   },
   "outputs": [
    {
     "data": {
      "text/plain": [
       "array([3117, 3126, 3206, 3217, 3287, 3288, 3233, 3299, 3300, 3315])"
      ]
     },
     "execution_count": 23,
     "metadata": {},
     "output_type": "execute_result"
    }
   ],
   "source": [
    "skip_kids"
   ]
  },
  {
   "cell_type": "code",
   "execution_count": 43,
   "metadata": {
    "collapsed": false
   },
   "outputs": [
    {
     "data": {
      "text/plain": [
       "array([3123])"
      ]
     },
     "execution_count": 43,
     "metadata": {},
     "output_type": "execute_result"
    }
   ],
   "source": [
    "np.setdiff1d(td_use, ztd_list)"
   ]
  },
  {
   "cell_type": "code",
   "execution_count": 31,
   "metadata": {
    "collapsed": false
   },
   "outputs": [
    {
     "data": {
      "text/plain": [
       "array([3117, 3126, 3206, 3217, 3287, 3288, 3233, 3299, 3300, 3315])"
      ]
     },
     "execution_count": 31,
     "metadata": {},
     "output_type": "execute_result"
    }
   ],
   "source": [
    "skip_kids"
   ]
  },
  {
   "cell_type": "code",
   "execution_count": null,
   "metadata": {
    "collapsed": true
   },
   "outputs": [],
   "source": []
  }
 ],
 "metadata": {
  "kernelspec": {
   "display_name": "Python 2",
   "language": "python",
   "name": "python2"
  },
  "language_info": {
   "codemirror_mode": {
    "name": "ipython",
    "version": 2
   },
   "file_extension": ".py",
   "mimetype": "text/x-python",
   "name": "python",
   "nbconvert_exporter": "python",
   "pygments_lexer": "ipython2",
   "version": "2.7.13"
  }
 },
 "nbformat": 4,
 "nbformat_minor": 0
}
